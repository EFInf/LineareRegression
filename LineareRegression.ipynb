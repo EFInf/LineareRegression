{
  "nbformat": 4,
  "nbformat_minor": 0,
  "metadata": {
    "colab": {
      "provenance": []
    },
    "kernelspec": {
      "name": "python3",
      "display_name": "Python 3"
    },
    "language_info": {
      "name": "python"
    }
  },
  "cells": [
    {
      "cell_type": "markdown",
      "source": [
        "# Lineare Regression mit Gradient Descent\n",
        "\n",
        "## 1. Daten laden\n",
        "\n",
        "Sie lernen hier, wie man eine lineare Regression mittels **Gradient Descent** durchführt, um aus Messdaten die Schallgeschwindigkeit zu bestimmen.\\\n",
        "Die Datei `schall.txt` enthält Messwerte, jeweils zwei durch Komma getrennte Zahlen pro Zeile:\n",
        "\n",
        "- **f** – Frequenz in Hz\n",
        "- **1/λ** – Kehrwert der Wellenlänge in 1/m\n"
      ],
      "metadata": {
        "id": "ONMd7pBVkC43"
      }
    },
    {
      "cell_type": "code",
      "source": [
        "import numpy as np\n",
        "\n",
        "# Daten einlesen\n",
        "data = np.loadtxt('schall.txt', delimiter=',')\n",
        "X = data[:, 0]      # Frequenzen\n",
        "Y = data[:, 1]      # 1/Lambda\n",
        "\n",
        "# Modellparameter initialisieren\n",
        "w = 0.0   # Steigung\n",
        "b = 0.0   # Achsenabschnitt"
      ],
      "metadata": {
        "id": "1emYWTwhkMBx"
      },
      "execution_count": null,
      "outputs": []
    },
    {
      "cell_type": "markdown",
      "source": [
        "Die Modellparameter definieren einer linearen Funktion: $f_{w,b}{x} = w x + b$"
      ],
      "metadata": {
        "id": "soABPGo5wDSq"
      }
    },
    {
      "cell_type": "code",
      "source": [
        "# prompt: def fwb(w,b,x):\n",
        "\n",
        "def fwb(w,b,x):\n",
        "  \"\"\"\n",
        "  Calculates the linear function f(x) = wx + b.\n",
        "\n",
        "  Args:\n",
        "    w: The slope of the line.\n",
        "    b: The y-intercept of the line.\n",
        "    x: The input value (x-coordinate).\n",
        "\n",
        "  Returns:\n",
        "     The calculated value of the linear function.\n",
        "  \"\"\"\n",
        "  return w * x + b\n"
      ],
      "metadata": {
        "id": "CmJZ4xI-wVSt"
      },
      "execution_count": null,
      "outputs": []
    },
    {
      "cell_type": "markdown",
      "source": [
        "## 2. Daten visualisieren\n",
        "\n",
        "Ein **Scatter‑Plot** hilft, einen ersten Eindruck vom Zusammenhang zwischen der Frequenz $\\nu$ und $\\frac{1}{\\lambda}$ zu bekommen.\n",
        "\n",
        "Wir zeichnen außerdem eine Gerade, die durch unser aktuelles Modell $f_{w,b}(x)=w·x+b$ definiert ist."
      ],
      "metadata": {
        "id": "bkN4HFE0kKRs"
      }
    },
    {
      "cell_type": "code",
      "source": [
        "import matplotlib.pyplot as plt\n",
        "\n",
        "plt.scatter(X, Y)\n",
        "x_plot = np.linspace(X.min(), X.max(), 100)\n",
        "y_plot = fwb(w,b,x_plot)\n",
        "plt.plot(x_plot, y_plot,c='g')\n",
        "plt.xlabel('Frequenz [Hz]')\n",
        "plt.ylabel('1 / λ [1/m]')\n",
        "plt.title('Messdaten und aktuelles Modell')\n",
        "plt.show()"
      ],
      "metadata": {
        "id": "GnS1VGPhkPc2"
      },
      "execution_count": null,
      "outputs": []
    },
    {
      "cell_type": "markdown",
      "source": [
        "### AUFGABE\n",
        "> Änderen Sie die Werte von `w` und `b` hierunter, um ein besseres Modell (grüne Linie) per Hand zu finden, und führen Sie die obige Zelle erneut aus, um den Graphen zu zeichnen."
      ],
      "metadata": {
        "id": "xmDgL0CekaGH"
      }
    },
    {
      "cell_type": "code",
      "source": [
        "#***** ÄNDEREN SIE DIE WERTE VON w UND b *****\n",
        "w = 0\n",
        "b = 0"
      ],
      "metadata": {
        "id": "LO8Xn8L_3ZQs"
      },
      "execution_count": null,
      "outputs": []
    },
    {
      "cell_type": "markdown",
      "source": [
        "## 3. Kostenfunktion\n",
        "\n",
        "Um das Modell systematisch zu verbessern, brauchen wir eine **Kostenfunktion**.\\\n",
        "Die Kostenfunktion für einen bestimmten Wert der Parameter $w$ und $b$ beträgt\n",
        "\n",
        "$$\n",
        "J(w,b)=\\frac{1}{2m}\\,\\displaystyle\\sum_{i=1}^m (f_{w,b}(x)-y)^2\n",
        "$$\n",
        "\n",
        "wobei $m$ die Anzahl der Datenpunkte ist."
      ],
      "metadata": {
        "id": "slpjNV83kfBN"
      }
    },
    {
      "cell_type": "markdown",
      "source": [
        "###AUFGABE\n",
        "> Implementieren Sie die Funktion `cost_point(w, b, x, y)`, die die Kosten eines einzelnen Datenpunktes $(x,y)$ bestimmt, mit der Formel:\n",
        "$$\\text{cost_point(w,b,x,y)} = \\dfrac{1}{2} \\left(f_{w,b}(x)-y\\right)^2$$"
      ],
      "metadata": {
        "id": "uJY_Fk4ok4c1"
      }
    },
    {
      "cell_type": "code",
      "source": [
        "# TODO: Implementiere cost_point\n",
        "def cost_point(w: float, b: float, x: float, y: float) -> float:\n",
        "    pass"
      ],
      "metadata": {
        "id": "QslU99kHkqAx"
      },
      "execution_count": null,
      "outputs": []
    },
    {
      "cell_type": "markdown",
      "source": [
        "### Lösung"
      ],
      "metadata": {
        "id": "MhGw-d8jkied"
      }
    },
    {
      "cell_type": "code",
      "source": [
        "def cost_point(w: float, b: float, x: float, y: float) -> float:\n",
        "    return 0.5 * (fwb(w,b,x) - y)**2"
      ],
      "metadata": {
        "id": "iVwWMY-Vu7vm"
      },
      "execution_count": null,
      "outputs": []
    },
    {
      "cell_type": "markdown",
      "source": [
        "Die Kostenfunktion `cost(w,b)` erhalten wir durch Summieren über alle Punkte und teilen durch die Anzahl Punkte:"
      ],
      "metadata": {
        "id": "abmwyMq5u9Yk"
      }
    },
    {
      "cell_type": "code",
      "source": [
        "def cost(w: float, b: float) -> float:\n",
        "    return sum(cost_point(w, b, X, Y)) / X.shape[0]"
      ],
      "metadata": {
        "id": "EEMRJwvw50Jz"
      },
      "execution_count": null,
      "outputs": []
    },
    {
      "cell_type": "markdown",
      "source": [
        "## 4. Visualisierung der Kostenfunktion als Kontourdiagramm"
      ],
      "metadata": {
        "id": "PXpLauppTOdK"
      }
    },
    {
      "cell_type": "code",
      "source": [
        "import numpy as np\n",
        "import matplotlib.pyplot as plt\n",
        "from matplotlib.colors import LogNorm\n",
        "from matplotlib.ticker import LogLocator\n",
        "\n",
        "# Definiere den Bereich der Werte für w und b\n",
        "w_range = np.linspace(0.00002, 0.00004, 100)  # w-Werte von -0.00001 bis 0.0001, 100 Schritte\n",
        "b_range = np.linspace(-0.01, 0.01, 100)  # b-Werte von -0001 bis 0.0001, 100 Schritte\n",
        "\n",
        "# Erstelle ein Gitter aus w- und b-Werten\n",
        "W, B = np.meshgrid(w_range, b_range)  # Kombiniert w- und b-Werte zu einem Gitter\n",
        "\n",
        "# Berechne die Werte von J(w,b) für jeden Punkt im Gitter\n",
        "Z = np.zeros_like(W)  # Erstelle ein Array mit der gleichen Form wie W, gefüllt mit Nullen\n",
        "for i in range(W.shape[0]):\n",
        "    for j in range(W.shape[1]):\n",
        "        Z[i, j] = cost(W[i, j], B[i, j])  # Berechne die Kosten für jeden Punkt (w, b)\n",
        "\n",
        "# Zeichne den Konturplot\n",
        "# plt.contour(W, B, Z, levels=20)  # Zeichnet den Konturplot mit 20 Höhenlinien\n",
        "# Erstelle den gefüllten Konturplot mit Farbverlauf\n",
        "plt.contour(W, B, Z, levels=150, cmap='viridis')  # 'viridis' ist ein Beispiel für eine Colormap\n",
        "plt.colorbar(label='Kosten')  # Fügt eine Colorbar hinzu\n",
        "\n",
        "plt.xlabel('w')  # Beschriftung der x-Achse\n",
        "plt.ylabel('b')  # Beschriftung der y-Achse\n",
        "plt.title('Konturplot von J(w,b)')  # Titel des Plots\n",
        "plt.show()  # Zeigt den Plot an"
      ],
      "metadata": {
        "id": "fms4JCJfTXX9"
      },
      "execution_count": null,
      "outputs": []
    },
    {
      "cell_type": "markdown",
      "source": [
        "## 5. Gradient\n",
        "\n",
        "Der Gradient der Kostenfunktion bezüglich $w$ und $b$ lautet\n",
        "\n",
        "$$\n",
        "\\begin{aligned}\n",
        "\\frac{\\partial}{\\partial w} J(w,b) &= \\dfrac{1}{m}\\displaystyle\\sum_{i=1}^m (f_{w,b}(X_i) - Y_i)\\,X_i,\\\\[2mm]\n",
        "\\frac{\\partial}{\\partial b} J(w,b) &= \\dfrac{1}{m}\\displaystyle\\sum_{i=1}^m (f_{w,b}(X_i) - Y_i)\\,.\n",
        "\\end{aligned}\n",
        "$$\n"
      ],
      "metadata": {
        "id": "jqmGCLLj5-jF"
      }
    },
    {
      "cell_type": "markdown",
      "source": [
        "###AUFGABE\n",
        "> Implementieren Sie die Funktion `gradient_point(i, w, b)`, die den Gradienten der Kosten eines einzelnen Datenpunktes $(x,y)$ bestimmt, mit der Formel:\n",
        ">\n",
        "> $$\\text{gradient_point(w,b,x,y)} = \\begin{bmatrix}\\left(f_{w,b}(x)-y\\right)x \\\\ f_{w,b}(x)-y\\end{bmatrix}$$\n",
        ">\n",
        "> Sie liefert den Gradienten als ein Tuple zurück."
      ],
      "metadata": {
        "id": "cIda9ADDMp1i"
      }
    },
    {
      "cell_type": "code",
      "source": [
        "# TODO: Implementiere gradient_point\n",
        "def gradient_point(w: float, b: float, x: float, y: float) -> tuple[float,float]:\n",
        "    pass\n"
      ],
      "metadata": {
        "id": "OloTddczNwxP"
      },
      "execution_count": null,
      "outputs": []
    },
    {
      "cell_type": "markdown",
      "source": [
        "###Lösung"
      ],
      "metadata": {
        "id": "xE8DoTBSOLZG"
      }
    },
    {
      "cell_type": "code",
      "source": [
        "def gradient_point(w: float, b: float, x: float, y: float) -> tuple[float,float]:\n",
        "    error = w * x + b - y\n",
        "    return error * x, error\n"
      ],
      "metadata": {
        "id": "nGqDPjekOZVM"
      },
      "execution_count": null,
      "outputs": []
    },
    {
      "cell_type": "markdown",
      "source": [
        "Wir definieren die Funktion `gradient(w,b)`, um den mittleren Gradienten über all Punkte zu bestimmen:"
      ],
      "metadata": {
        "id": "MZ7ZTQ4WOrey"
      }
    },
    {
      "cell_type": "code",
      "source": [
        "def gradient(w: float, b: float) -> tuple[float,float]:\n",
        "    dw,db = gradient_point(w,b,X,Y)\n",
        "    return sum(dw)/X.shape[0],sum(db)/X.shape[0]\n"
      ],
      "metadata": {
        "id": "xr4rEHiLPGwK"
      },
      "execution_count": null,
      "outputs": []
    },
    {
      "cell_type": "markdown",
      "source": [
        "## 5  Gradientenverfahren (Gradient Descent)\n",
        "\n",
        "Ein **Gradienten‑Schritt** aktualisiert die Parameter um\n",
        "\n",
        "$$\n",
        "w' = w - \\alpha\\,\\nabla_w, \\qquad\n",
        "b' = b - \\alpha\\,\\nabla_b,\n",
        "$$\n",
        "\n",
        "wobei \\(\\alpha\\) die **Lernrate** ist.\n",
        "\n",
        "```\n",
        "# This is formatted as code\n",
        "```\n",
        "\n"
      ],
      "metadata": {
        "id": "bQf4HazKBe3o"
      }
    },
    {
      "cell_type": "markdown",
      "source": [
        "###AUFGABE\n",
        "> Implementieren Sie `gradient_step(w, b, alpha)`, die einen Gradienten-Schritt ausführt und $w'$ und $b'$ als Tuple zurückliefert. `gradient_step(w,b,alpha)` sollte die Funktion `gradient(w,b)` verwenden, um den Gradient zu bestimmen.\n",
        "\n"
      ],
      "metadata": {
        "id": "A4tvObmcCFiP"
      }
    },
    {
      "cell_type": "code",
      "source": [
        "# TODO: Implementieren Sie gradient_step\n",
        "def gradient_step(w: float, b: float, alpha: float) -> tuple[float, float]:\n",
        "    pass\n"
      ],
      "metadata": {
        "id": "rqtCCghcER8e"
      },
      "execution_count": null,
      "outputs": []
    },
    {
      "cell_type": "markdown",
      "source": [
        "### Lösung"
      ],
      "metadata": {
        "id": "uaGsvW51EVH_"
      }
    },
    {
      "cell_type": "code",
      "source": [
        "def gradient_step(w: float, b: float, alpha: float) -> tuple[float, float]:\n",
        "    grad_w, grad_b = gradient(w, b)\n",
        "    return w - alpha * grad_w, b - alpha * grad_b"
      ],
      "metadata": {
        "id": "P-mWNl_mEboA"
      },
      "execution_count": null,
      "outputs": []
    },
    {
      "cell_type": "markdown",
      "source": [
        "Die Funktion `gradient_descent(w_start, b_start, alpha, prec, max_iter)` macht einen vollständigen Ablauf des Gradientenverfahrens mit Abbruchkriterium:"
      ],
      "metadata": {
        "id": "yryI8LgTEnF_"
      }
    },
    {
      "cell_type": "code",
      "source": [
        "def gradient_descent(w_start: float, b_start: float, alpha: float,\n",
        "                     prec: float = 1e-8, max_iter: int = 10_000) -> tuple[float, float]:\n",
        "    w, b = w_start, b_start\n",
        "    for _ in range(max_iter):\n",
        "        w_new, b_new = gradient_step(w, b, alpha)\n",
        "        if abs(w_new - w) < prec and abs(b_new - b) < prec:\n",
        "            break\n",
        "        w, b = w_new, b_new\n",
        "    return w, b"
      ],
      "metadata": {
        "id": "X-r-OLbQE9Z_"
      },
      "execution_count": null,
      "outputs": []
    },
    {
      "cell_type": "markdown",
      "source": [
        "## 6. Training ausführen und Ergebnis visualisieren"
      ],
      "metadata": {
        "id": "ikjNqszEE_iB"
      }
    },
    {
      "cell_type": "code",
      "source": [
        "w_opt, b_opt = gradient_descent(0., 0., alpha=1e-6)\n",
        "print(f'Optimales w: {w_opt:.4e}, optimales b: {b_opt:.4e}')\n",
        "print(f'Kosten bei der optimalen Lösung: {cost(w_opt, b_opt):.4e}')\n",
        "v = 1 / w_opt if w_opt!=0 else float('inf')   # Schallgeschwindigkeit\n",
        "print(f'Geschätzte Schallgeschwindigkeit: {v:.2f} m/s')\n",
        "\n",
        "plt.scatter(X, Y)\n",
        "plt.plot(x_plot, w_opt * x_plot + b_opt)\n",
        "plt.xlabel('Frequenz [Hz]')\n",
        "plt.ylabel('1 / λ [1/m]')\n",
        "plt.title('Daten und optimales Modell')\n",
        "plt.show()"
      ],
      "metadata": {
        "id": "1xpt2_3pFFOG"
      },
      "execution_count": null,
      "outputs": []
    },
    {
      "cell_type": "markdown",
      "source": [
        "###AUFGABE\n",
        "> Experimentieren Sie:\n",
        ">\n",
        "> - Passen Sie die Lernrate `alpha` an und beobachten Sie den Einfluss auf die Konvergenz.\n",
        "> - Starten Sie mit unterschiedlichen Anfangswerten von `w` und `b`.\n",
        "> - Vergleichen Sie die geschätzte Schallgeschwindigkeit mit dem Literaturwert (\\~343 m/s bei 20 °C)."
      ],
      "metadata": {
        "id": "I4b7cVw1Ff5y"
      }
    }
  ]
}